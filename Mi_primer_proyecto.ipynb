{
 "cells": [
  {
   "cell_type": "code",
   "execution_count": 1,
   "id": "a3e3954c",
   "metadata": {},
   "outputs": [],
   "source": [
    "import numpy as np\n",
    "import matplotlib.pyplot as plt\n",
    "from scipy.stats import norm\n",
    "from scipy.integrate import quad\n",
    "from scipy.optimize import minimize_scalar\n",
    "from scipy.special import erf\n",
    "from scipy.stats import gaussian_kde\n",
    "from sklearn.neighbors import KernelDensity\n",
    "from sklearn.model_selection import GridSearchCV\n",
    "from sklearn.model_selection import LeaveOneOut\n",
    "from sklearn.model_selection import KFold\n",
    "from sklearn.model_selection import cross_val_score\n"
   ]
  },
  {
   "cell_type": "code",
   "execution_count": 7,
   "id": "5ba2e57c",
   "metadata": {},
   "outputs": [
    {
     "name": "stdout",
     "output_type": "stream",
     "text": [
      "3.0\n"
     ]
    }
   ],
   "source": [
    "import numpy as np\n",
    "\n",
    "A = 2 \n",
    "B = 5\n",
    "C = 1\n",
    "D = 3\n",
    "E = 4\n",
    "\n",
    "def promedio(x):\n",
    "    return np.mean(x)\n",
    "\n",
    "x = np.array([A, B, C, D, E])\n",
    "print(promedio(x))\n"
   ]
  },
  {
   "cell_type": "code",
   "execution_count": 16,
   "id": "1377c0e7",
   "metadata": {},
   "outputs": [
    {
     "name": "stdout",
     "output_type": "stream",
     "text": [
      "Janet Jackson\n",
      "My name is Michael Jackson and my age is 45\n",
      "0\n"
     ]
    }
   ],
   "source": [
    "Name=\"Michael Jackson\"\n",
    "Age=45\n",
    "A=Name.upper()\n",
    "A=Name.replace(\"Michael\",\"Janet\")\n",
    "print(A)\n",
    "\n",
    "Name.find(\"de\")\n",
    "print (\"My name is {Name} and my age is {Age}\".format(Name=Name,Age=Age))\n",
    "\n",
    "print(int(False))"
   ]
  },
  {
   "cell_type": "markdown",
   "id": "2327c099",
   "metadata": {},
   "source": [
    "## Primer reto "
   ]
  },
  {
   "cell_type": "code",
   "execution_count": 21,
   "id": "f9f10879",
   "metadata": {},
   "outputs": [
    {
     "name": "stdout",
     "output_type": "stream",
     "text": [
      "Su nombre completo es:dario rubiano\n",
      "Su nombre completo es: DARIO RUBIANO\n",
      "Su nombre completo es: Dario rubiano\n"
     ]
    }
   ],
   "source": [
    "Name=input(\"Enter your name: \")\n",
    "Last_name=input(\"Enter your last name: \")\n",
    "Name_complete=Name+\" \"+Last_name\n",
    "\n",
    "print(f\"Su nombre completo es:{Name_complete}\")\n",
    "\n",
    "print(f\"Su nombre completo es: {Name_complete.upper()}\")\n",
    "\n",
    "print(f\"Su nombre completo es: {Name_complete.capitalize()}\")\n",
    "\n",
    "\n"
   ]
  },
  {
   "cell_type": "code",
   "execution_count": null,
   "id": "ad74179d",
   "metadata": {},
   "outputs": [],
   "source": [
    "# sum(), len(), max(), min()"
   ]
  },
  {
   "cell_type": "code",
   "execution_count": 24,
   "id": "1a793f5c",
   "metadata": {},
   "outputs": [
    {
     "name": "stdout",
     "output_type": "stream",
     "text": [
      "El promedio es 3.68 \n",
      " La calificacion mayor es 5 \n",
      " La calificacion menor es 2.6\n"
     ]
    }
   ],
   "source": [
    "Calificaciones=[3,4.3,3.5,5,2.6]\n",
    "\n",
    "S=sum(Calificaciones)\n",
    "L=len(Calificaciones)\n",
    "Max=max(Calificaciones)\n",
    "Min=min(Calificaciones)\n",
    "print(f\"El promedio es {S/L:.2f} \\n La calificacion mayor es {Max} \\n La calificacion menor es {Min}\")\n"
   ]
  },
  {
   "cell_type": "code",
   "execution_count": null,
   "id": "a1f1c9ee",
   "metadata": {},
   "outputs": [
    {
     "name": "stdout",
     "output_type": "stream",
     "text": [
      "El total a pagar es: 1.4\n"
     ]
    }
   ],
   "source": [
    "Menu=[[\"Cafe\",2], [\"Te\",1.4], [\"Jugo\",4]]\n",
    "\n",
    "Pedido=input(\"¿Qué desea pedir? \")\n",
    "Unidades=int(input(\"¿Cuántas unidades? \"))\n",
    "\n",
    "for item in Menu:\n",
    "    if item[0] == Pedido:   # item[0] es el nombre del producto\n",
    "        Total = item[1] * Unidades\n",
    "        print(f\"El total a pagar es: {Total}\")\n",
    "        break\n",
    "else:\n",
    "    print(\"Ese producto no está en el menú.\")\n"
   ]
  }
 ],
 "metadata": {
  "kernelspec": {
   "display_name": "Python 3",
   "language": "python",
   "name": "python3"
  },
  "language_info": {
   "codemirror_mode": {
    "name": "ipython",
    "version": 3
   },
   "file_extension": ".py",
   "mimetype": "text/x-python",
   "name": "python",
   "nbconvert_exporter": "python",
   "pygments_lexer": "ipython3",
   "version": "3.11.9"
  }
 },
 "nbformat": 4,
 "nbformat_minor": 5
}
